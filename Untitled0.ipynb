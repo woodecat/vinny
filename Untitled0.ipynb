{
  "nbformat": 4,
  "nbformat_minor": 0,
  "metadata": {
    "colab": {
      "provenance": [],
      "toc_visible": true,
      "authorship_tag": "ABX9TyMgZtQx6FTfZGNKfzpVE1u1",
      "include_colab_link": true
    },
    "kernelspec": {
      "name": "python3",
      "display_name": "Python 3"
    },
    "language_info": {
      "name": "python"
    }
  },
  "cells": [
    {
      "cell_type": "markdown",
      "metadata": {
        "id": "view-in-github",
        "colab_type": "text"
      },
      "source": [
        "<a href=\"https://colab.research.google.com/github/woodecat/vinny/blob/main/Untitled0.ipynb\" target=\"_parent\"><img src=\"https://colab.research.google.com/assets/colab-badge.svg\" alt=\"Open In Colab\"/></a>"
      ]
    },
    {
      "cell_type": "code",
      "execution_count": null,
      "metadata": {
        "colab": {
          "base_uri": "https://localhost:8080/"
        },
        "id": "pq-eWvrxmuX2",
        "outputId": "b657b23f-f917-479b-aaac-1d14d5519f7b"
      },
      "outputs": [
        {
          "output_type": "stream",
          "name": "stdout",
          "text": [
            "1\n",
            "vi\n",
            "nny\n"
          ]
        }
      ],
      "source": [
        "print(1)\n",
        "print('vi')\n",
        "print(\"nny\")"
      ]
    },
    {
      "cell_type": "markdown",
      "source": [
        "#variaveis"
      ],
      "metadata": {
        "id": "BVYj-kpwoCdT"
      }
    },
    {
      "cell_type": "code",
      "source": [
        "#camelcase\n",
        "saldoBancarioDeHoje = 1000\n",
        "#snakecase\n",
        "saldo_bancario_de_ontem = -10000\n",
        "\n",
        "#Variavel nunca pode comecar com numero\n",
        "#Uma variavel nunca pode ter espaco, use o underline\n",
        "#Nao utilize estes simbolos ?/()!\n",
        "#SEMPRE DEVE COMECAR POR LETRA MINUSCULA"
      ],
      "metadata": {
        "id": "2-cxCRvVoUMh"
      },
      "execution_count": null,
      "outputs": []
    },
    {
      "cell_type": "code",
      "source": [],
      "metadata": {
        "id": "0dDgN_xIwpeW"
      },
      "execution_count": null,
      "outputs": []
    },
    {
      "cell_type": "code",
      "source": [
        "print(saldo_bancario_de_ontem)\n",
        "print(\"Seu saldo bancario de ontem:\",saldo_bancario_de_ontem)"
      ],
      "metadata": {
        "colab": {
          "base_uri": "https://localhost:8080/"
        },
        "id": "YRtzMEhUpa8b",
        "outputId": "4891cabd-af9f-4e54-acca-ddd15ccfb2bc"
      },
      "execution_count": null,
      "outputs": [
        {
          "output_type": "stream",
          "name": "stdout",
          "text": [
            "-10000\n",
            "Seu saldo bancario de ontem: -10000\n"
          ]
        }
      ]
    },
    {
      "cell_type": "code",
      "source": [],
      "metadata": {
        "id": "IYPJwBxzwsF5"
      },
      "execution_count": null,
      "outputs": []
    },
    {
      "cell_type": "markdown",
      "source": [
        "#tipo de numero"
      ],
      "metadata": {
        "id": "Dq8vS1IvqGEc"
      }
    },
    {
      "cell_type": "code",
      "source": [
        "inteiro = 10\n",
        "\n",
        "type(inteiro)"
      ],
      "metadata": {
        "colab": {
          "base_uri": "https://localhost:8080/"
        },
        "id": "DPzI2COgqJzM",
        "outputId": "0102dc0d-32d4-4d41-845f-03cc51d301d8"
      },
      "execution_count": null,
      "outputs": [
        {
          "output_type": "execute_result",
          "data": {
            "text/plain": [
              "int"
            ]
          },
          "metadata": {},
          "execution_count": 7
        }
      ]
    },
    {
      "cell_type": "code",
      "source": [
        "decimal = 10.5\n",
        "\n",
        "type(decimal)"
      ],
      "metadata": {
        "colab": {
          "base_uri": "https://localhost:8080/"
        },
        "id": "ZIoqEXamqpyh",
        "outputId": "e55d8c96-2753-4c22-d7c0-a49055127e07"
      },
      "execution_count": null,
      "outputs": [
        {
          "output_type": "execute_result",
          "data": {
            "text/plain": [
              "float"
            ]
          },
          "metadata": {},
          "execution_count": 8
        }
      ]
    },
    {
      "cell_type": "code",
      "source": [
        "#adicao\n",
        "1 + 1\n",
        "#subtracao\n",
        "1 - 1\n",
        "#divisao\n",
        "14/7\n",
        "#multiplicacao\n",
        "4*9\n",
        "#exponencial\n",
        "10**2"
      ],
      "metadata": {
        "colab": {
          "base_uri": "https://localhost:8080/"
        },
        "id": "x0Zz1j-prDVQ",
        "outputId": "4ab7f8a7-b3e4-4d23-b1e8-7b59d194abf7"
      },
      "execution_count": null,
      "outputs": [
        {
          "output_type": "execute_result",
          "data": {
            "text/plain": [
              "100"
            ]
          },
          "metadata": {},
          "execution_count": 10
        }
      ]
    },
    {
      "cell_type": "code",
      "source": [
        "#ordem das operacoes\n",
        "10 + 10 * 10"
      ],
      "metadata": {
        "colab": {
          "base_uri": "https://localhost:8080/"
        },
        "id": "ODD8KzwIsGXH",
        "outputId": "731c4b21-ca17-442c-e862-1ba1eba6008c"
      },
      "execution_count": null,
      "outputs": [
        {
          "output_type": "execute_result",
          "data": {
            "text/plain": [
              "110"
            ]
          },
          "metadata": {},
          "execution_count": 11
        }
      ]
    },
    {
      "cell_type": "code",
      "source": [
        "#como especifica a ordem das operacoes\n",
        "(2 + 10) * (10 - 5)"
      ],
      "metadata": {
        "colab": {
          "base_uri": "https://localhost:8080/"
        },
        "id": "_PzrJwjZsfSd",
        "outputId": "f53253c0-55e4-44ff-f8dc-207824f986c1"
      },
      "execution_count": null,
      "outputs": [
        {
          "output_type": "execute_result",
          "data": {
            "text/plain": [
              "60"
            ]
          },
          "metadata": {},
          "execution_count": 12
        }
      ]
    },
    {
      "cell_type": "markdown",
      "source": [],
      "metadata": {
        "id": "9EOB4sD4pXBs"
      }
    },
    {
      "cell_type": "code",
      "source": [
        "numero = 10\n",
        "\n",
        "numero + numero\n",
        "\n",
        "numero = 30\n",
        "\n",
        "numero = numero + numero\n",
        "print(numero)"
      ],
      "metadata": {
        "colab": {
          "base_uri": "https://localhost:8080/"
        },
        "id": "81DtYDehwwZx",
        "outputId": "da6b193d-c0b6-4643-d1be-518736426feb"
      },
      "execution_count": null,
      "outputs": [
        {
          "output_type": "stream",
          "name": "stdout",
          "text": [
            "60\n"
          ]
        }
      ]
    },
    {
      "cell_type": "code",
      "source": [
        "#Escreva um programa que imprima seu nome na tela.\n",
        "print(\"vinicius\")\n"
      ],
      "metadata": {
        "colab": {
          "base_uri": "https://localhost:8080/"
        },
        "id": "T58dV3Gwyc3C",
        "outputId": "5efdc882-bb34-4977-a6f4-ef99ca156212"
      },
      "execution_count": null,
      "outputs": [
        {
          "output_type": "stream",
          "name": "stdout",
          "text": [
            "vinicius\n"
          ]
        }
      ]
    },
    {
      "cell_type": "code",
      "source": [
        "#Declare duas números e imprima a soma deles.\n",
        "num1 = 5\n",
        "num2 = 3\n",
        "print(num1 + num2)\n",
        "\n",
        "num1 = 5\n",
        "num2 = 3\n",
        "soma = num1 + num2\n",
        "print(\"O resultado da soma é: \",soma)\n"
      ],
      "metadata": {
        "colab": {
          "base_uri": "https://localhost:8080/"
        },
        "id": "IEs_gFCFyti7",
        "outputId": "9dcbda1a-4afd-4e21-c930-8a6eac509c4a"
      },
      "execution_count": null,
      "outputs": [
        {
          "output_type": "stream",
          "name": "stdout",
          "text": [
            "8\n",
            "O resultado da soma é:  8\n"
          ]
        }
      ]
    },
    {
      "cell_type": "code",
      "source": [
        "#Declare uma variável com uma mensagem pessoal e imprima-a\n",
        "th = \"oi sou vi\"\n",
        "print(th)"
      ],
      "metadata": {
        "colab": {
          "base_uri": "https://localhost:8080/"
        },
        "id": "LLdAC2e1zFP_",
        "outputId": "3f83bc89-9cfa-457c-c4c9-447154f9757f"
      },
      "execution_count": null,
      "outputs": [
        {
          "output_type": "stream",
          "name": "stdout",
          "text": [
            "oi sou vi\n"
          ]
        }
      ]
    },
    {
      "cell_type": "code",
      "source": [
        "#Declare duas variaveis com valores numericos e imprima a soma, subtracao, multiplicacao e divisão delas.\n",
        "num1 = 5\n",
        "num2 = 2\n",
        "soma = num1 + num2\n",
        "subtracao = num1 - num2\n",
        "multiplicacao = num1 * num2\n",
        "divisao = num1 / num2\n",
        "\n",
        "print(\"soma: \", soma)\n",
        "print(\"subtracao: \", subtracao)\n",
        "print(\"multiplicacao: \", multiplicacao)\n",
        "print(\"divisao: \", divisao)"
      ],
      "metadata": {
        "colab": {
          "base_uri": "https://localhost:8080/"
        },
        "id": "0ZCZuJDk21Pw",
        "outputId": "3651c779-c308-4673-fe37-a670b99c1ea4"
      },
      "execution_count": null,
      "outputs": [
        {
          "output_type": "stream",
          "name": "stdout",
          "text": [
            "soma:  7\n",
            "subtracao:  3\n",
            "multiplicacao:  10\n",
            "divisao:  2.5\n"
          ]
        }
      ]
    },
    {
      "cell_type": "markdown",
      "source": [
        "#string"
      ],
      "metadata": {
        "id": "fkOxYrfKlbJY"
      }
    },
    {
      "cell_type": "code",
      "source": [
        "#uma palavra\n",
        "string1 = \"oi!\"\n",
        "#uma frase\n",
        "string2 = \"oi!, como voce esta?\"\n",
        "#uma frase com aspas simples\n",
        "string3 = 'Benicio ruizao no brawl stars'"
      ],
      "metadata": {
        "id": "vbBsu7gQlc_P"
      },
      "execution_count": null,
      "outputs": []
    },
    {
      "cell_type": "code",
      "source": [
        "print(string1)\n",
        "print(string2)\n",
        "print(string3)"
      ],
      "metadata": {
        "colab": {
          "base_uri": "https://localhost:8080/"
        },
        "id": "RP4Xj48wmwfP",
        "outputId": "9edd8dee-31ed-4ed8-be56-1ed67a03a07f"
      },
      "execution_count": null,
      "outputs": [
        {
          "output_type": "stream",
          "name": "stdout",
          "text": [
            "oi!\n",
            "oi!, como voce esta?\n",
            "Benicio ruizao no brawl stars\n"
          ]
        }
      ]
    },
    {
      "cell_type": "code",
      "source": [
        "#como usar \"\" numa string\n",
        "string4 = 'eu sou \"ruim\"'\n",
        "print(string4)"
      ],
      "metadata": {
        "colab": {
          "base_uri": "https://localhost:8080/"
        },
        "id": "l1AuU24sn94t",
        "outputId": "c1132dd1-246d-49eb-afb1-82d0a6fbb020"
      },
      "execution_count": null,
      "outputs": [
        {
          "output_type": "stream",
          "name": "stdout",
          "text": [
            "eu sou \"ruim\"\n"
          ]
        }
      ]
    },
    {
      "cell_type": "code",
      "source": [
        "#tres formas para imprimir uma string\n",
        "string5 = \"test\"\n",
        "print(string5)\n",
        "print(\"test\")\n",
        "'test'"
      ],
      "metadata": {
        "colab": {
          "base_uri": "https://localhost:8080/",
          "height": 70
        },
        "id": "NQE0oJRmozWi",
        "outputId": "6b2b39f1-42c1-4b34-fefc-ed3170223e61"
      },
      "execution_count": null,
      "outputs": [
        {
          "output_type": "stream",
          "name": "stdout",
          "text": [
            "test\n",
            "test\n"
          ]
        },
        {
          "output_type": "execute_result",
          "data": {
            "text/plain": [
              "'test'"
            ],
            "application/vnd.google.colaboratory.intrinsic+json": {
              "type": "string"
            }
          },
          "metadata": {},
          "execution_count": 5
        }
      ]
    },
    {
      "cell_type": "code",
      "source": [
        "#utilizar \\n para saltar linhas\n",
        "print(\"saltando agora \\n weeeeeee saltei\")"
      ],
      "metadata": {
        "colab": {
          "base_uri": "https://localhost:8080/"
        },
        "id": "tJ3HFqHAqVt8",
        "outputId": "64efecf7-0775-41d9-d2ea-5e235bc7302e"
      },
      "execution_count": null,
      "outputs": [
        {
          "output_type": "stream",
          "name": "stdout",
          "text": [
            "saltando agora \n",
            " weeeeeee saltei\n"
          ]
        }
      ]
    },
    {
      "cell_type": "code",
      "source": [
        "#utilizar \\t para dar espacos maiores\n",
        "print(\"irei dar um passo \\tdei um passo\")"
      ],
      "metadata": {
        "colab": {
          "base_uri": "https://localhost:8080/"
        },
        "id": "JxJKjNgMrGtR",
        "outputId": "4aa64fec-b2dd-4b67-9ee3-4b72b52ee715"
      },
      "execution_count": null,
      "outputs": [
        {
          "output_type": "stream",
          "name": "stdout",
          "text": [
            "irei dar um passo \tdei um passo\n"
          ]
        }
      ]
    },
    {
      "cell_type": "code",
      "source": [
        "#veja quantos caracteres forma uma frase\n",
        "frase = \"O papaleguas\"\n",
        "len(frase)"
      ],
      "metadata": {
        "colab": {
          "base_uri": "https://localhost:8080/"
        },
        "id": "5VEeriK2sFDl",
        "outputId": "b9db4894-09ae-4e0d-8473-d2d271243a6e"
      },
      "execution_count": null,
      "outputs": [
        {
          "output_type": "execute_result",
          "data": {
            "text/plain": [
              "12"
            ]
          },
          "metadata": {},
          "execution_count": 8
        }
      ]
    },
    {
      "cell_type": "code",
      "source": [
        "#indexaçao de string\n",
        "nome = \"Fulano da Silva Sauro\"\n",
        "#Imprimindo a primeira letra do nome\n",
        "print([0])"
      ],
      "metadata": {
        "colab": {
          "base_uri": "https://localhost:8080/"
        },
        "id": "pPPb4TZKvW7p",
        "outputId": "488c8638-8823-4bed-8564-330f85a48698"
      },
      "execution_count": null,
      "outputs": [
        {
          "output_type": "stream",
          "name": "stdout",
          "text": [
            "[0]\n"
          ]
        }
      ]
    },
    {
      "cell_type": "code",
      "source": [
        "#Imprimindo a partir de um caractere\n",
        "print(nome[7:])\n",
        "#Imprimindo ate um caractere\n",
        "print(nome[:7])\n",
        "#imprimir uma parte especifica\n",
        "print(nome[10:15])\n",
        "#imprimir retrocedendo\n",
        "print(nome[-1])\n",
        "#tudo menos uma letra\n",
        "print(nome[:-1])"
      ],
      "metadata": {
        "colab": {
          "base_uri": "https://localhost:8080/"
        },
        "id": "Ep8_3IS_wHVD",
        "outputId": "63e0a9cd-d666-4082-9d40-d04c3196af6a"
      },
      "execution_count": null,
      "outputs": [
        {
          "output_type": "stream",
          "name": "stdout",
          "text": [
            "da Silva Sauro\n",
            "Fulano \n",
            "Silva\n",
            "o\n",
            "Fulano da Silva Saur\n"
          ]
        }
      ]
    },
    {
      "cell_type": "code",
      "source": [],
      "metadata": {
        "id": "cSiyX71Z4wK0"
      },
      "execution_count": null,
      "outputs": []
    },
    {
      "cell_type": "code",
      "source": [
        "#imprimir uma frase saltando de 2 em 2\n",
        "frase = 'ola como vais'\n",
        "print(frase[::2])"
      ],
      "metadata": {
        "colab": {
          "base_uri": "https://localhost:8080/"
        },
        "id": "1136qvsf1_hh",
        "outputId": "f991dd3f-5135-4e3f-fd03-9f72bd6e2d85"
      },
      "execution_count": null,
      "outputs": [
        {
          "output_type": "stream",
          "name": "stdout",
          "text": [
            "oacm as\n"
          ]
        }
      ]
    },
    {
      "cell_type": "code",
      "source": [
        "#encontrar caracteres dentro de uma string use o find()\n",
        "email = \"blablablabla@gmail.com.br\"\n",
        "print(email.find(\"@\"))"
      ],
      "metadata": {
        "colab": {
          "base_uri": "https://localhost:8080/"
        },
        "id": "GJUt4oHk34Pi",
        "outputId": "25be6c80-a3bc-45b2-d71c-6a17f0483ce3"
      },
      "execution_count": null,
      "outputs": [
        {
          "output_type": "stream",
          "name": "stdout",
          "text": [
            "12\n"
          ]
        }
      ]
    },
    {
      "cell_type": "code",
      "source": [
        "#utilize count para contar caracteres dentro de uma string\n",
        "email = \"blablablabla@gmail.com.br\"\n",
        "print(email.count(\".\"))"
      ],
      "metadata": {
        "colab": {
          "base_uri": "https://localhost:8080/"
        },
        "id": "gYE9_UZl5-Vx",
        "outputId": "611fe571-dffd-41f3-cad1-e3d11fc1f36c"
      },
      "execution_count": null,
      "outputs": [
        {
          "output_type": "stream",
          "name": "stdout",
          "text": [
            "2\n"
          ]
        }
      ]
    },
    {
      "cell_type": "code",
      "source": [
        "#OPERADORES EM STRINGS\n",
        "\n",
        "#concatenaçao\n",
        "nome = \"Vinicius\"\n",
        "sobrenome = \" Pontes\"\n",
        "print(nome+sobrenome)\n",
        "\n",
        "#repetiçao\n",
        "print(nome *3)"
      ],
      "metadata": {
        "colab": {
          "base_uri": "https://localhost:8080/"
        },
        "id": "218Tsgcp6mjJ",
        "outputId": "b4a33b6f-f4af-49db-a3e6-4e18487eec63"
      },
      "execution_count": null,
      "outputs": [
        {
          "output_type": "stream",
          "name": "stdout",
          "text": [
            "Vinicius Pontes\n",
            "ViniciusViniciusVinicius\n"
          ]
        }
      ]
    },
    {
      "cell_type": "code",
      "source": [
        "#numero não podem ser conectnados com strings\n",
        "numero_de_irmaos = 2\n",
        "#use funcao str() pois ela transforma numeros em strings\n",
        "print(\"Voce tem \" + str(numero_de_irmaos) + \" irmãos\")"
      ],
      "metadata": {
        "colab": {
          "base_uri": "https://localhost:8080/"
        },
        "id": "DZOWOj-E8ULA",
        "outputId": "253e72d3-0b93-455e-f01a-1883bf0cb6b6"
      },
      "execution_count": null,
      "outputs": [
        {
          "output_type": "stream",
          "name": "stdout",
          "text": [
            "Voce tem 2 irmãos\n"
          ]
        }
      ]
    },
    {
      "cell_type": "markdown",
      "source": [
        "#Listas e Matrizes"
      ],
      "metadata": {
        "id": "6TlWwqOWtvgw"
      }
    },
    {
      "cell_type": "code",
      "source": [
        "#Como criar uma lista\n",
        "\n",
        "alunos = [\"Riquelme\", \"Benicio\", \"David\", \"Vinivius\", \"Eduardo\"]\n",
        "print(alunos)"
      ],
      "metadata": {
        "colab": {
          "base_uri": "https://localhost:8080/"
        },
        "id": "8CbDLy6pt3NA",
        "outputId": "5be35759-4c1a-4e1e-c157-71ee109bf8c7"
      },
      "execution_count": null,
      "outputs": [
        {
          "output_type": "stream",
          "name": "stdout",
          "text": [
            "['Riquelme', 'Benicio', 'David', 'Vinivius', 'Eduardo']\n"
          ]
        }
      ]
    },
    {
      "cell_type": "code",
      "source": [
        "#Como exibir um indicie em especifico\n",
        "\n",
        "alunos = [\"Riquelme\", \"Benicio\", \"David\", \"Vinicius\", \"Eduardo\"]\n",
        "print(\"Primeiro alunos desta turma: \" + alunos[0])\n",
        "#os indicies em python comecam do valor 0"
      ],
      "metadata": {
        "colab": {
          "base_uri": "https://localhost:8080/"
        },
        "id": "tyy0NUksuJPV",
        "outputId": "2e05125a-941b-4a9e-88cb-2b3b8eb9631e"
      },
      "execution_count": null,
      "outputs": [
        {
          "output_type": "stream",
          "name": "stdout",
          "text": [
            "Primeiro alunos desta turma: Riquelme\n"
          ]
        }
      ]
    },
    {
      "cell_type": "code",
      "source": [
        "alunos = [\"Riquelme\", \"Benicio\", \"David\", \"Vinicius\", \"Eduardo\"]\n",
        "print(\"Ultimo alunos desta turma: \" + alunos[4])\n",
        "#os indicies em python comecam do valor 0"
      ],
      "metadata": {
        "id": "7crSY1v3vG5H"
      },
      "execution_count": null,
      "outputs": []
    },
    {
      "cell_type": "code",
      "source": [
        "#Como substituir algo na lista\n",
        "\n",
        "alunos = [\"Riquelme\", \"Benicio\", \"David\", \"Vinicius\", \"Eduardo\"]\n",
        "alunos[4]=\"Patolino\"\n",
        "print(alunos)"
      ],
      "metadata": {
        "colab": {
          "base_uri": "https://localhost:8080/"
        },
        "id": "C-o3VNrRv79H",
        "outputId": "df800a91-df13-48cf-fea5-980a1f631916"
      },
      "execution_count": null,
      "outputs": [
        {
          "output_type": "stream",
          "name": "stdout",
          "text": [
            "['Riquelme', 'Benicio', 'David', 'Vinicius', 'Patolino']\n"
          ]
        }
      ]
    },
    {
      "cell_type": "code",
      "source": [
        "#Como acrescentar itens dentro da lista\n",
        "\n",
        "alunos = [\"Riquelme\", \"Benicio\", \"David\", \"Vinicius\", \"Eduardo\"]\n",
        "alunos.append(\"Joaquim\")\n",
        "print(alunos)\n"
      ],
      "metadata": {
        "colab": {
          "base_uri": "https://localhost:8080/"
        },
        "id": "s79k68DDw6c1",
        "outputId": "88965295-cda0-4a5f-8eab-9feb9699b729"
      },
      "execution_count": null,
      "outputs": [
        {
          "output_type": "stream",
          "name": "stdout",
          "text": [
            "['Riquelme', 'Benicio', 'David', 'Vinicius', 'Eduardo', 'Joaquim']\n"
          ]
        }
      ]
    },
    {
      "cell_type": "code",
      "source": [
        "#Como inserir algo na lista em um lugar especifico\n",
        "\n",
        "alunos = [\"Riquelme\", \"Benicio\", \"David\", \"Vinicius\", \"Eduardo\"]\n",
        "alunos.insert(2, \"Arthur\")\n",
        "print(alunos)"
      ],
      "metadata": {
        "colab": {
          "base_uri": "https://localhost:8080/"
        },
        "id": "TGGFsmQ3yr2z",
        "outputId": "e44a939e-6d0b-4dab-f45b-ad69bd15bacc"
      },
      "execution_count": null,
      "outputs": [
        {
          "output_type": "stream",
          "name": "stdout",
          "text": [
            "['Riquelme', 'Benicio', 'Arthur', 'David', 'Vinicius', 'Eduardo']\n"
          ]
        }
      ]
    },
    {
      "cell_type": "code",
      "source": [
        "#Como remover itens de uma lista\n",
        "\n",
        "alunos = [\"Riquelme\", \"Benicio\", \"David\", \"Vinicius\", \"Eduardo\"]\n",
        "del alunos[3]\n",
        "print(alunos)"
      ],
      "metadata": {
        "colab": {
          "base_uri": "https://localhost:8080/"
        },
        "id": "If16fWYBzfS-",
        "outputId": "fca2b034-6fa0-4082-e320-b6f7f8fe3ab5"
      },
      "execution_count": null,
      "outputs": [
        {
          "output_type": "stream",
          "name": "stdout",
          "text": [
            "['Riquelme', 'Benicio', 'David', 'Eduardo']\n"
          ]
        }
      ]
    },
    {
      "cell_type": "code",
      "source": [
        "#Como remover um por um da lista\n",
        "\n",
        "alunos = [\"Riquelme\", \"Benicio\", \"David\", \"Vinicius\", \"Eduardo\"]\n",
        "alunos.pop()\n",
        "print(alunos)"
      ],
      "metadata": {
        "colab": {
          "base_uri": "https://localhost:8080/"
        },
        "id": "0OVQ_NJa0Qr_",
        "outputId": "526005d1-478e-42ec-fd79-3ba07982abd0"
      },
      "execution_count": null,
      "outputs": [
        {
          "output_type": "stream",
          "name": "stdout",
          "text": [
            "['Riquelme', 'Benicio', 'David', 'Vinicius']\n"
          ]
        }
      ]
    },
    {
      "cell_type": "code",
      "source": [
        "#Como remover da lista em especifico utilizando o metodo .pop\n",
        "\n",
        "alunos = [\"Riquelme\", \"Benicio\", \"David\", \"Vinicius\", \"Eduardo\"]\n",
        "alunos.pop()\n",
        "print(alunos)"
      ],
      "metadata": {
        "id": "EES-GGWP1QVA"
      },
      "execution_count": null,
      "outputs": []
    },
    {
      "cell_type": "code",
      "source": [
        "#Como remover um item sem dizer a sua posicão\n",
        "\n",
        "alunos = [\"Riquelme\", \"Benicio\", \"David\", \"Vinicius\", \"Eduardo\"]\n",
        "alunos.remove(\"Riquelme\")\n",
        "print(alunos)"
      ],
      "metadata": {
        "colab": {
          "base_uri": "https://localhost:8080/"
        },
        "id": "zUatRENf6onQ",
        "outputId": "6f3257f3-50e3-4eff-f19a-b42b6a039119"
      },
      "execution_count": null,
      "outputs": [
        {
          "output_type": "stream",
          "name": "stdout",
          "text": [
            "['Benicio', 'David', 'Vinicius', 'Eduardo']\n"
          ]
        }
      ]
    },
    {
      "cell_type": "code",
      "source": [
        "#Como remover um item sem dizer a sua posicão\n",
        "\n",
        "alunos = [\"Riquelme\", \"Benicio\", \"David\", \"Vinicius\", \"Eduardo\"]\n",
        "viajando = \"Riquelme\"\n",
        "alunos.remove(viajando)\n",
        "print(alunos)"
      ],
      "metadata": {
        "colab": {
          "base_uri": "https://localhost:8080/"
        },
        "id": "dnxNwz8U7cqY",
        "outputId": "2404d86f-ee84-4754-b233-6d4ce4fe383e"
      },
      "execution_count": null,
      "outputs": [
        {
          "output_type": "stream",
          "name": "stdout",
          "text": [
            "['Benicio', 'David', 'Vinicius', 'Eduardo']\n"
          ]
        }
      ]
    },
    {
      "cell_type": "code",
      "source": [
        "#Como colocar uma lista em ordem alfabetica\n",
        "alunos = [\"Riquelme\", \"Benicio\", \"David\", \"Vinicius\", \"Eduardo\"]\n",
        "alunos.sort()\n",
        "print(alunos)\n",
        "\n",
        "#Como colocar em ordem inversa\n",
        "alunos = [\"Riquelme\", \"Benicio\", \"David\", \"Vinicius\", \"Eduardo\"]\n",
        "alunos.sort(reverse=True)\n",
        "print(alunos)\n",
        "\n",
        "#O metodo .sort() altera a lista original\n",
        "print(alunos)"
      ],
      "metadata": {
        "colab": {
          "base_uri": "https://localhost:8080/"
        },
        "id": "Pmv3wij29vkf",
        "outputId": "f528c93d-0a54-478a-8da4-b8622a39a984"
      },
      "execution_count": null,
      "outputs": [
        {
          "output_type": "stream",
          "name": "stdout",
          "text": [
            "['Benicio', 'David', 'Eduardo', 'Riquelme', 'Vinicius']\n",
            "['Vinicius', 'Riquelme', 'Eduardo', 'David', 'Benicio']\n",
            "['Vinicius', 'Riquelme', 'Eduardo', 'David', 'Benicio']\n"
          ]
        }
      ]
    },
    {
      "cell_type": "code",
      "source": [
        "nada = []\n",
        "nada.append(\"eu\")\n",
        "nada.append(\"nao\")\n",
        "nada.append(\"oque\")\n",
        "nada.append(\"escrever\")\n",
        "print(nada)"
      ],
      "metadata": {
        "colab": {
          "base_uri": "https://localhost:8080/"
        },
        "id": "8eN3uGUgA7Fg",
        "outputId": "1fd09ddf-71e5-4e84-8b4d-a7b360deb8a4"
      },
      "execution_count": null,
      "outputs": [
        {
          "output_type": "stream",
          "name": "stdout",
          "text": [
            "['eu', 'nao', 'oque', 'escrever']\n"
          ]
        }
      ]
    },
    {
      "cell_type": "code",
      "source": [
        "lista = [10, 20, 30, 40, 50]\n",
        "print(lista[0])\n",
        "print(lista[4])\n"
      ],
      "metadata": {
        "colab": {
          "base_uri": "https://localhost:8080/"
        },
        "id": "2eiU_KzsCO_y",
        "outputId": "2b0c0cb3-2f9c-4e67-9d72-a24b8aedb2af"
      },
      "execution_count": null,
      "outputs": [
        {
          "output_type": "stream",
          "name": "stdout",
          "text": [
            "10\n",
            "50\n"
          ]
        }
      ]
    },
    {
      "cell_type": "code",
      "source": [
        "lista = [\"Ana\", \"Caio\", \"Fabio\"]\n",
        "lista[0] = \"Oi\"\n",
        "print(lista)"
      ],
      "metadata": {
        "colab": {
          "base_uri": "https://localhost:8080/"
        },
        "id": "X7lSeITVDQaK",
        "outputId": "2ee97d91-26f6-4b16-e5e1-871d21f6a570"
      },
      "execution_count": null,
      "outputs": [
        {
          "output_type": "stream",
          "name": "stdout",
          "text": [
            "['Oi', 'Caio', 'Fabio']\n"
          ]
        }
      ]
    },
    {
      "cell_type": "code",
      "source": [
        "#OPERADORES EM CADEIA\"\n",
        "#AND / Todas as condicoes precisam ser verdadeiras\n",
        "print( 1 < 2 < 3)\n",
        "\n",
        "#o mesmo que 1 < 2 < 3\n",
        "print( 1 < 2 and 2 < 3)\n",
        "\n",
        "print(1 < 2 and 2 < 3 and 3 > 4)\n",
        "print(\"--------------------------------\")\n",
        "\n",
        "#OR / Uma condicao somente precisa ser verdadeira\n",
        "\n",
        "print( 1 > 2 or 1 < 2)"
      ],
      "metadata": {
        "colab": {
          "base_uri": "https://localhost:8080/"
        },
        "id": "e4LGeyPS0zrn",
        "outputId": "7b82c3f8-71f8-4bff-93ec-9314361b77d6"
      },
      "execution_count": null,
      "outputs": [
        {
          "output_type": "stream",
          "name": "stdout",
          "text": [
            "True\n",
            "True\n",
            "False\n",
            "--------------------------------\n",
            "True\n"
          ]
        }
      ]
    },
    {
      "cell_type": "markdown",
      "source": [
        "#CONDICIONAIS IF / ELIF / ELSE"
      ],
      "metadata": {
        "id": "iQaKBiDY4Yex"
      }
    },
    {
      "cell_type": "code",
      "source": [
        "#IF = SE\n",
        "#ELIF = SENAO\n",
        "#ELSE = ENTAO\n",
        "\n",
        "nota = float(input(\"Digite sua nota: \"))\n",
        "\n",
        "if nota >= 6:\n",
        "  print(\"Aprovado\")\n",
        "elif 4 < nota and nota < 6:\n",
        "  print(\"Recuperacao\")\n",
        "else:\n",
        " print(\"Reprovado\")"
      ],
      "metadata": {
        "colab": {
          "base_uri": "https://localhost:8080/"
        },
        "id": "KprKhDPw4jAG",
        "outputId": "6f805439-72c9-4c8a-8340-c6f0eedd8074"
      },
      "execution_count": null,
      "outputs": [
        {
          "output_type": "stream",
          "name": "stdout",
          "text": [
            "Digite sua nota: 5\n",
            "Recuperacao\n"
          ]
        }
      ]
    },
    {
      "cell_type": "code",
      "source": [
        "#Programa de verificacao de idade\n",
        "\n",
        "idade = float(input(\"Qual é a sua idade: \"))\n",
        "\n",
        "if idade >= 18:\n",
        "  print(\"Voce é maior de idade\")\n",
        "else:\n",
        "  print(\"Voce é menor de idade\")"
      ],
      "metadata": {
        "colab": {
          "base_uri": "https://localhost:8080/"
        },
        "id": "PHZyWjS_Aw00",
        "outputId": "6f990402-3164-4d07-f501-f43621b8de0e"
      },
      "execution_count": null,
      "outputs": [
        {
          "output_type": "stream",
          "name": "stdout",
          "text": [
            "Qual é a sua idade: 17\n",
            "Voce é menor de idade\n"
          ]
        }
      ]
    },
    {
      "cell_type": "code",
      "source": [
        "#Escreva um programa que pergunte ao usuário um número e, em seguida, imprima se o número é positivo, negativo ou zero\n",
        "\n",
        "numero = float(input(\"Digite um numero: \"))\n",
        "if numero > 0:\n",
        " print(\"numero > 0\")\n",
        "elif numero < 0:\n",
        " print(\"numero < 0\")\n",
        "else:\n",
        " print(\"numero = 0\")"
      ],
      "metadata": {
        "colab": {
          "base_uri": "https://localhost:8080/"
        },
        "id": "A6HQHYoIAtrG",
        "outputId": "97326382-ad34-44d3-ab38-b609dc4b5152"
      },
      "execution_count": null,
      "outputs": [
        {
          "output_type": "stream",
          "name": "stdout",
          "text": [
            "Digite um numero: inf\n",
            "numero > 0\n"
          ]
        }
      ]
    },
    {
      "cell_type": "markdown",
      "source": [
        "#ESTRUTURAS DE REPETIÇÃO"
      ],
      "metadata": {
        "id": "7wQlyCeg6iKQ"
      }
    },
    {
      "cell_type": "code",
      "source": [
        "#FOR\n",
        "\n",
        "\n",
        "numeros = [1,2,3,4,5,6,7,8,9,10]\n",
        "\n",
        "for i in numeros:\n",
        "  print(i)\n"
      ],
      "metadata": {
        "colab": {
          "base_uri": "https://localhost:8080/"
        },
        "id": "txlx0TU86v15",
        "outputId": "e75f7ab7-5e8e-4890-d736-f04523e1a485"
      },
      "execution_count": null,
      "outputs": [
        {
          "output_type": "stream",
          "name": "stdout",
          "text": [
            "1\n",
            "2\n",
            "3\n",
            "4\n",
            "5\n",
            "6\n",
            "7\n",
            "8\n",
            "9\n",
            "10\n"
          ]
        }
      ]
    },
    {
      "cell_type": "code",
      "source": [
        "for i in range(1,11):\n",
        "  print(i)"
      ],
      "metadata": {
        "colab": {
          "base_uri": "https://localhost:8080/"
        },
        "id": "lNx8ocJ2Bxzj",
        "outputId": "a97d29fd-cd28-4b46-bbec-1d95e45afa41"
      },
      "execution_count": null,
      "outputs": [
        {
          "output_type": "stream",
          "name": "stdout",
          "text": [
            "1\n",
            "2\n",
            "3\n",
            "4\n",
            "5\n",
            "6\n",
            "7\n",
            "8\n",
            "9\n",
            "10\n"
          ]
        }
      ]
    },
    {
      "cell_type": "code",
      "source": [
        "for num in range(1,11):\n",
        "  if num %2 == 0:\n",
        "    print(num)"
      ],
      "metadata": {
        "colab": {
          "base_uri": "https://localhost:8080/"
        },
        "id": "1tkxGz4UCF8X",
        "outputId": "a7633588-b1d3-4eff-b6b0-b8e90c4b8e50"
      },
      "execution_count": null,
      "outputs": [
        {
          "output_type": "stream",
          "name": "stdout",
          "text": [
            "2\n",
            "4\n",
            "6\n",
            "8\n",
            "10\n"
          ]
        }
      ]
    },
    {
      "cell_type": "code",
      "source": [
        "for letra in \"Riquelme\":\n",
        "  print(letra)"
      ],
      "metadata": {
        "colab": {
          "base_uri": "https://localhost:8080/"
        },
        "id": "9RubCmpUD7Qu",
        "outputId": "4c539072-fe03-4421-9867-90a418f574e8"
      },
      "execution_count": null,
      "outputs": [
        {
          "output_type": "stream",
          "name": "stdout",
          "text": [
            "R\n",
            "i\n",
            "q\n",
            "u\n",
            "e\n",
            "l\n",
            "m\n",
            "e\n"
          ]
        }
      ]
    },
    {
      "cell_type": "code",
      "source": [
        "for num in range(2,21):\n",
        "  e_primo = True\n",
        "\n",
        "  for num_teste in range(2, num):\n",
        "    if num % num_teste == 0:\n",
        "      e_primo = False\n",
        "      break\n",
        "\n",
        "  if(e_primo):\n",
        "    print(\"É primo: \",num)\n",
        "  else:\n",
        "    print(\"Não é primo: \",num)"
      ],
      "metadata": {
        "colab": {
          "base_uri": "https://localhost:8080/"
        },
        "id": "BhAwAAuMEY5s",
        "outputId": "b52dd53f-cbb3-4079-ba4d-f08e7d47679c"
      },
      "execution_count": null,
      "outputs": [
        {
          "output_type": "stream",
          "name": "stdout",
          "text": [
            "É primo:  2\n",
            "É primo:  3\n",
            "Não é primo:  4\n",
            "É primo:  5\n",
            "Não é primo:  6\n",
            "É primo:  7\n",
            "Não é primo:  8\n",
            "Não é primo:  9\n",
            "Não é primo:  10\n",
            "É primo:  11\n",
            "Não é primo:  12\n",
            "É primo:  13\n",
            "Não é primo:  14\n",
            "Não é primo:  15\n",
            "Não é primo:  16\n",
            "É primo:  17\n",
            "Não é primo:  18\n",
            "É primo:  19\n",
            "Não é primo:  20\n"
          ]
        }
      ]
    },
    {
      "cell_type": "code",
      "source": [
        "#WHILE\n",
        "\n",
        "n = 10\n",
        "\n",
        "while(n > 0):\n",
        "  print(n)\n",
        "  n = n - 1"
      ],
      "metadata": {
        "colab": {
          "base_uri": "https://localhost:8080/"
        },
        "id": "Ny_d95T6IWJg",
        "outputId": "6df21916-2661-44c2-fdb3-9434724284ce"
      },
      "execution_count": null,
      "outputs": [
        {
          "output_type": "stream",
          "name": "stdout",
          "text": [
            "10\n",
            "9\n",
            "8\n",
            "7\n",
            "6\n",
            "5\n",
            "4\n",
            "3\n",
            "2\n",
            "1\n"
          ]
        }
      ]
    },
    {
      "cell_type": "markdown",
      "source": [
        "#OUTROS TIPOS DE LISTAS"
      ],
      "metadata": {
        "id": "KvNcudTLz_Bb"
      }
    },
    {
      "cell_type": "code",
      "source": [
        "#Lists\n",
        "\n",
        "#Sao ordenados\n",
        "#pode ter qualquer tipo de dado\n",
        "#acessada por indicies a partir de 0\n",
        "#sao mutaveis, ou seja, podem ser modificador depois de criadas\n",
        "#sao definidos por []\n",
        "\n",
        "meu_list = [1,2,3,4,5]\n",
        "\n",
        "#SETS\n",
        "#Nao sao ordenadas\n",
        "#Nao temos valores duplicados\n",
        "#a lista nao possui indicie\n",
        "#sao mutaveis, podemos adicionar e remover itens\n",
        "#sao definidos utilizando {}\n",
        "\n",
        "meus_sets = {1,2,3,4,5}\n",
        "\n",
        "#Tuples\n",
        "\n",
        "#Sao ordenadas e imutaveis(nao pode alterar nada depois de ser criada)\n",
        "#aceita qualquer tipo de dado\n",
        "#possui indicie\n",
        "#sao defindas por ()\n",
        "\n",
        "mmeu_tuple = (1,2,3,4,5)\n",
        "\n",
        "#Dictionaries\n",
        "#Sao de pares chave-valor\n",
        "#os elementos sao acessados por chaves, nao por indicies\n",
        "#as chaves devem ter um valor unico, porem o valor pode se repetir\n",
        "\n",
        "\n",
        "meu_dicionario = {\"senha\": 123, \"senha2\":321}"
      ],
      "metadata": {
        "id": "tQXus80H0HEg"
      },
      "execution_count": null,
      "outputs": []
    },
    {
      "cell_type": "code",
      "source": [
        "#SETS\n",
        "#sao mutaveis e podemos utilizar metodos\n",
        "\n",
        "sets = set()\n",
        "\n",
        "sets.add(1)\n",
        "\n",
        "sets.add(2)\n",
        "\n",
        "print(sets)\n",
        "\n",
        "sets.add(1)\n",
        "#Listas do tipo Set nao é possivel repetir valores/dados\n",
        "\n",
        "print(sets)"
      ],
      "metadata": {
        "colab": {
          "base_uri": "https://localhost:8080/"
        },
        "id": "gXC4pIIN7SEO",
        "outputId": "a1cead20-ce72-4899-b5ac-60df4b4a3792"
      },
      "execution_count": null,
      "outputs": [
        {
          "output_type": "stream",
          "name": "stdout",
          "text": [
            "{1, 2}\n",
            "{1, 2}\n"
          ]
        }
      ]
    },
    {
      "cell_type": "code",
      "source": [
        "a = True\n",
        "b = False\n",
        "\n",
        "#Eu posso (se quiser sim) aplicar valores booleanos a partir de expressoes\n",
        "\n",
        "c = 1 < 2\n",
        "d = 7 > 10\n",
        "\n",
        "print(a,b,c,d)"
      ],
      "metadata": {
        "colab": {
          "base_uri": "https://localhost:8080/"
        },
        "id": "ilkQ9neb9C94",
        "outputId": "7a0290a1-4111-4f89-8bbc-91dcc24519bc"
      },
      "execution_count": null,
      "outputs": [
        {
          "output_type": "stream",
          "name": "stdout",
          "text": [
            "True False True False\n"
          ]
        }
      ]
    },
    {
      "cell_type": "code",
      "source": [
        "#TUPLAS\n",
        "#varios tipos de dados\n",
        "tupla = ('um', 2, 'tres', True, 4.5, 'cinco ponto sei', False)\n",
        "\n",
        "print(tupla[2])\n",
        "print(tupla[2:5])\n",
        "print(\"----------------------------------------------------------\")\n",
        "\n",
        "tupla2 = (1,2,2,3,3,3,4,4,4,4)\n",
        "\n",
        "#metodos que conseguimos utilizar\n",
        "print(len(tupla2))\n",
        "print(tupla2.count(4))\n",
        "\n",
        "#nao consguimos utilizar pois uma tupla é imutavel\n",
        "#append\n",
        "#pop\n",
        "#remove\n",
        "#index"
      ],
      "metadata": {
        "colab": {
          "base_uri": "https://localhost:8080/"
        },
        "id": "jitXxK5n93Jf",
        "outputId": "c0adc34f-fbc5-44f3-cb36-8eb3ff8e908f"
      },
      "execution_count": null,
      "outputs": [
        {
          "output_type": "stream",
          "name": "stdout",
          "text": [
            "tres\n",
            "('tres', True, 4.5)\n",
            "----------------------------------------------------------\n",
            "10\n",
            "4\n"
          ]
        }
      ]
    },
    {
      "cell_type": "code",
      "source": [
        "#Dictionaries\n",
        "#Sao de pares chave-valor\n",
        "#os elementos sao acessados por chaves, nao por indicies\n",
        "#as chaves devem ter um valor unico, porem o valor pode se repetir\n",
        "\n",
        "dicionario = {'defenestrar':'tacar o benicio pela janela', 'ps5':'R$3500', 'chave1': 3}\n",
        "\n",
        "print(dicionario['defenestrar'])"
      ],
      "metadata": {
        "colab": {
          "base_uri": "https://localhost:8080/"
        },
        "id": "TTyN-UmeDudE",
        "outputId": "d4bb2579-53b3-4671-be25-c0fca5fca2fb"
      },
      "execution_count": null,
      "outputs": [
        {
          "output_type": "stream",
          "name": "stdout",
          "text": [
            "tacar o benicio pela janela\n"
          ]
        }
      ]
    },
    {
      "cell_type": "code",
      "source": [
        "# {'chave':[valor1, valor2]}\n",
        "\n",
        "estatisticas = {'cr7':[30,15], 'messi':[2,0], 'caça rato':[90,50]}\n",
        "\n",
        "print(estatisticas['caça rato'][0])\n",
        "\n"
      ],
      "metadata": {
        "colab": {
          "base_uri": "https://localhost:8080/"
        },
        "id": "YpGOVq6rGX8r",
        "outputId": "35b5173e-9c68-4f4c-ab3f-cb570502db4d"
      },
      "execution_count": null,
      "outputs": [
        {
          "output_type": "stream",
          "name": "stdout",
          "text": [
            "90\n"
          ]
        }
      ]
    },
    {
      "cell_type": "markdown",
      "source": [
        "#FUNCOES"
      ],
      "metadata": {
        "id": "JUE8f6tj5iLB"
      }
    },
    {
      "cell_type": "code",
      "source": [
        "def bem_vindo():\n",
        "  print(\"Seja bem vindo \")\n",
        "\n",
        "bem_vindo()"
      ],
      "metadata": {
        "colab": {
          "base_uri": "https://localhost:8080/"
        },
        "id": "CRBCDYuK5qw4",
        "outputId": "e68fe761-1af4-4bb6-fa88-fc0aedee50d0"
      },
      "execution_count": null,
      "outputs": [
        {
          "output_type": "stream",
          "name": "stdout",
          "text": [
            "Seja bem vindo \n"
          ]
        }
      ]
    },
    {
      "cell_type": "code",
      "source": [
        "def boas_vindas(nomeDeUsuario):\n",
        "  print(\"Seja bem-vindo, a aula\", nomeDeUsuario)\n",
        "\n",
        "  boas_vindas(\"CR7\")\n",
        "\n",
        "def boas_vindas(nomeDeUsuario):\n",
        "  print(\"Seja bem-vindo, a aula %s\" % (nomeDeUsuario))\n",
        "\n",
        "  boas_vindas(\"CR7\")"
      ],
      "metadata": {
        "id": "GayyHPnF7Oby"
      },
      "execution_count": null,
      "outputs": []
    },
    {
      "cell_type": "code",
      "source": [
        "# Crie uma funçao chamada filme_favorito() que aceita um parametro chamado \"titulo\"\n",
        "#e a funcao deve exibir a mensagem \"Um dos meus filmes favoritos é .......\"\n",
        "\n",
        "def filme_favorito(titulo):\n",
        "  print(\"Um dos meus filmes favoritos é %s\" % (titulo))\n",
        "\n",
        "filme_favorito(\"chicken little\")"
      ],
      "metadata": {
        "colab": {
          "base_uri": "https://localhost:8080/"
        },
        "id": "HnRGOR8k-3Sv",
        "outputId": "df18d7ba-a40b-43c9-a131-18beb70134a9"
      },
      "execution_count": null,
      "outputs": [
        {
          "output_type": "stream",
          "name": "stdout",
          "text": [
            "Um dos meus filmes favoritos é chicken little\n"
          ]
        }
      ]
    },
    {
      "cell_type": "code",
      "source": [
        "# a formula da velocidade é V = D/T\n",
        "\n",
        "def velocidade(distancia, tempo):\n",
        "  velocidade = distancia // tempo\n",
        "  print(\"A sua velocidade é de: %d\" % (velocidade))\n",
        "\n",
        "velocidade(100, 20)"
      ],
      "metadata": {
        "colab": {
          "base_uri": "https://localhost:8080/"
        },
        "id": "AN007ZVABgU6",
        "outputId": "e6b6298e-2ebd-4c57-d257-9a82b217fa61"
      },
      "execution_count": null,
      "outputs": [
        {
          "output_type": "stream",
          "name": "stdout",
          "text": [
            "A sua velocidade é de: 5\n"
          ]
        }
      ]
    },
    {
      "cell_type": "code",
      "source": [
        "def menor(a, b):\n",
        "  if a<=b:\n",
        "    return a\n",
        "  else:\n",
        "    return b"
      ],
      "metadata": {
        "id": "L0UDFXwAEw1_"
      },
      "execution_count": null,
      "outputs": []
    },
    {
      "cell_type": "code",
      "source": [
        "a = int(input(\"Digite o primeiro numero: \"))\n",
        "b = int(input(\"Digite o segundo numero: \"))\n",
        "\n",
        "print(\"O menor valor entre %d e %d é %d\" % (a, b, menor(a, b)))"
      ],
      "metadata": {
        "colab": {
          "base_uri": "https://localhost:8080/"
        },
        "id": "kv5FjJCLFTZv",
        "outputId": "d8389c0d-58b2-43ac-bda0-2535915566bd"
      },
      "execution_count": null,
      "outputs": [
        {
          "output_type": "stream",
          "name": "stdout",
          "text": [
            "Digite o primeiro numero: 1\n",
            "Digite o segundo numero: 2\n",
            "O menor valor entre 1 e 2 é 1\n"
          ]
        }
      ]
    },
    {
      "cell_type": "markdown",
      "source": [
        "#DESAFIOS"
      ],
      "metadata": {
        "id": "1yQfeVRZEAIm"
      }
    },
    {
      "cell_type": "code",
      "source": [
        "#O que é uma variável em Python?\n",
        "uma variavel é uma coisa que pode ser armazenada dados que podem ser mudados\n",
        "#Qual é a diferença entre uma variável e uma constante?\n",
        "a variavel pode ser mudada quando feita mas a constante não\n",
        "#Explique o que são funções em Python.\n",
        "ex: def test_blahblah(dracula):\n",
        "#Como você declara uma função em Python?\n",
        "  print(\"alho\", dracula)\n",
        "\n",
        "  test_blahblah(\"luz\")\n",
        "#O que é uma lista em Python?\n",
        "nada = [\"ar1\", \"ar2\", \"ar3\", \"ar4\"]\n",
        "#Como você acessa um elemento específico em uma lista?\n",
        "nada.insert(2. \"oxigenio\")\n",
        "print(nada)\n",
        "#Explique o que são condicionais em Python.\n",
        "#Quais são os operadores de comparação em Python?\n",
        "#O que é um loop de repetição? Cite dois tipos de loops em Python.\n",
        "#Como você solicita entrada de dados do usuário em Python?\n",
        "\n",
        "#Escreva um programa que solicita ao usuário seu nome e o saúda.\n",
        "#Crie uma função que recebe dois números como entrada e retorna a soma deles.\n",
        "#Escreva um programa que verifica se um número é par ou ímpar e imprime uma mensagem correspondente.\n",
        "#Crie uma lista com os nomes de três amigos. Imprima cada nome separadamente.\n",
        "#Escreva um programa que calcula a média de três números digitados pelo usuário.\n",
        "#Crie uma função que recebe uma lista como entrada e retorna o maior número presente nessa lista.\n",
        "#Escreva um programa que solicita ao usuário um número e verifica se ele é positivo, negativo ou zero.\n",
        "#Crie uma lista com os números de 1 a 10 e imprima apenas os números pares.\n",
        "for test in range (1,11):\n",
        "  if test %2 == 0:\n",
        "    print(test)\n",
        "#Escreva um programa que solicita ao usuário um número e verifica se ele é divisível por 3.\n",
        "#Crie uma função que recebe uma lista de números e retorna outra lista com os números elevados ao quadrado"
      ],
      "metadata": {
        "colab": {
          "base_uri": "https://localhost:8080/",
          "height": 106
        },
        "id": "ujHoqDsyA7vl",
        "outputId": "855e3ea3-2af4-4232-ed94-b098e556053f"
      },
      "execution_count": null,
      "outputs": [
        {
          "output_type": "error",
          "ename": "SyntaxError",
          "evalue": "invalid syntax (<ipython-input-9-4e6e6bf7fc4c>, line 2)",
          "traceback": [
            "\u001b[0;36m  File \u001b[0;32m\"<ipython-input-9-4e6e6bf7fc4c>\"\u001b[0;36m, line \u001b[0;32m2\u001b[0m\n\u001b[0;31m    uma variavel é uma coisa que pode ser armazenada dados que podem ser mudados\u001b[0m\n\u001b[0m        ^\u001b[0m\n\u001b[0;31mSyntaxError\u001b[0m\u001b[0;31m:\u001b[0m invalid syntax\n"
          ]
        }
      ]
    },
    {
      "cell_type": "markdown",
      "source": [
        "#MODULO"
      ],
      "metadata": {
        "id": "NzwNb7USAf8V"
      }
    },
    {
      "cell_type": "code",
      "source": [
        "#importando um modulo\n",
        "import math"
      ],
      "metadata": {
        "id": "mB2SMRS7Bc0v"
      },
      "execution_count": null,
      "outputs": []
    },
    {
      "cell_type": "code",
      "source": [
        "#2 elevado a 3\n",
        "print(math.pow(2,4))\n",
        "\n",
        "#arredondar valores\n",
        "print(math.ceil(2.5))#arredondar para cima\n",
        "print(math.trunc(2.5))#arredonda para baixo"
      ],
      "metadata": {
        "colab": {
          "base_uri": "https://localhost:8080/"
        },
        "id": "p9rB66NyBvuH",
        "outputId": "5f989d6e-e893-4714-9e4b-49e12455e96d"
      },
      "execution_count": null,
      "outputs": [
        {
          "output_type": "stream",
          "name": "stdout",
          "text": [
            "16.0\n",
            "3\n",
            "2\n"
          ]
        }
      ]
    },
    {
      "cell_type": "code",
      "source": [
        "#Como ver todas as funcoes de  um modulo\n",
        "print(dir(math))"
      ],
      "metadata": {
        "colab": {
          "base_uri": "https://localhost:8080/"
        },
        "id": "VHccFDDjDxb9",
        "outputId": "28d1bf30-39ae-4f64-9cd7-3ed68ce3d168"
      },
      "execution_count": null,
      "outputs": [
        {
          "output_type": "stream",
          "name": "stdout",
          "text": [
            "['__doc__', '__loader__', '__name__', '__package__', '__spec__', 'acos', 'acosh', 'asin', 'asinh', 'atan', 'atan2', 'atanh', 'ceil', 'comb', 'copysign', 'cos', 'cosh', 'degrees', 'dist', 'e', 'erf', 'erfc', 'exp', 'expm1', 'fabs', 'factorial', 'floor', 'fmod', 'frexp', 'fsum', 'gamma', 'gcd', 'hypot', 'inf', 'isclose', 'isfinite', 'isinf', 'isnan', 'isqrt', 'lcm', 'ldexp', 'lgamma', 'log', 'log10', 'log1p', 'log2', 'modf', 'nan', 'nextafter', 'perm', 'pi', 'pow', 'prod', 'radians', 'remainder', 'sin', 'sinh', 'sqrt', 'tan', 'tanh', 'tau', 'trunc', 'ulp']\n"
          ]
        }
      ]
    },
    {
      "cell_type": "code",
      "source": [
        "print(math.radians(100000000))"
      ],
      "metadata": {
        "colab": {
          "base_uri": "https://localhost:8080/"
        },
        "id": "_yihHlfXEVNC",
        "outputId": "e59ebbe9-f084-4f3a-a665-a0d3e54a5e0d"
      },
      "execution_count": null,
      "outputs": [
        {
          "output_type": "stream",
          "name": "stdout",
          "text": [
            "1745329.2519943295\n"
          ]
        }
      ]
    },
    {
      "cell_type": "code",
      "source": [
        "from google.colab import drive\n",
        "drive.mount('/content/gdrive')"
      ],
      "metadata": {
        "colab": {
          "base_uri": "https://localhost:8080/"
        },
        "id": "hv1Gl0BqIqFG",
        "outputId": "8867164b-3c8c-450d-a985-0d434ee7c3aa"
      },
      "execution_count": null,
      "outputs": [
        {
          "output_type": "stream",
          "name": "stdout",
          "text": [
            "Mounted at /content/gdrive\n"
          ]
        }
      ]
    },
    {
      "cell_type": "code",
      "source": [
        "import sys\n",
        "\n",
        "sys.path.insert(0, '/content/gdrive/MyDrive/Modulos')"
      ],
      "metadata": {
        "id": "4FkXxyyIK2MF"
      },
      "execution_count": null,
      "outputs": []
    },
    {
      "cell_type": "code",
      "source": [
        "import calculadora"
      ],
      "metadata": {
        "id": "jggAOPyMNXYO"
      },
      "execution_count": null,
      "outputs": []
    },
    {
      "cell_type": "code",
      "source": [
        "calculadora.mult(5,5)"
      ],
      "metadata": {
        "colab": {
          "base_uri": "https://localhost:8080/"
        },
        "id": "394QgOebNdWn",
        "outputId": "44884051-ddff-4e6e-c64f-b78966474596"
      },
      "execution_count": null,
      "outputs": [
        {
          "output_type": "execute_result",
          "data": {
            "text/plain": [
              "25"
            ]
          },
          "metadata": {},
          "execution_count": 15
        }
      ]
    },
    {
      "cell_type": "markdown",
      "source": [
        "#ARQUIVOS"
      ],
      "metadata": {
        "id": "R0EpaZQsSLIZ"
      }
    },
    {
      "cell_type": "code",
      "source": [
        "%%writefile texto.txt\n",
        "\n",
        "O benicio é um aluno de 13 alunos,\n",
        "Bryan joga Roblox,\n",
        "Riquelme é Santista,\n",
        "David já ganhou na mega sena e\n",
        "Vinicius joga beach tenis"
      ],
      "metadata": {
        "colab": {
          "base_uri": "https://localhost:8080/"
        },
        "id": "Y6bJKQfySPLm",
        "outputId": "a230db63-fe35-4fbd-ae83-eeb2d3387d9f"
      },
      "execution_count": null,
      "outputs": [
        {
          "output_type": "stream",
          "name": "stdout",
          "text": [
            "Writing texto.txt\n"
          ]
        }
      ]
    },
    {
      "cell_type": "code",
      "source": [
        "# Abre um arquivo txt já existente\n",
        "\n",
        "arquivo = open('texto.txt')"
      ],
      "metadata": {
        "id": "wjsdLzrdTFYr"
      },
      "execution_count": null,
      "outputs": []
    },
    {
      "cell_type": "code",
      "source": [
        "#Lê todo o arquivo\n",
        "arquivo.read()"
      ],
      "metadata": {
        "colab": {
          "base_uri": "https://localhost:8080/",
          "height": 53
        },
        "id": "zfXavIpHTivN",
        "outputId": "fb4cc3a5-83aa-4ce3-eaeb-0d693f553b37"
      },
      "execution_count": null,
      "outputs": [
        {
          "output_type": "execute_result",
          "data": {
            "text/plain": [
              "'\\nO benicio é um aluno de 13 alunos,\\nBryan joga Roblox,\\nRiquelme é Santista,\\nDavid já ganhou na mega sena e \\nVinicius joga beach tenis\\n'"
            ],
            "application/vnd.google.colaboratory.intrinsic+json": {
              "type": "string"
            }
          },
          "metadata": {},
          "execution_count": 24
        }
      ]
    },
    {
      "cell_type": "code",
      "source": [
        "#Lê todo o arquivo novamente\n",
        "arquivo.read()"
      ],
      "metadata": {
        "colab": {
          "base_uri": "https://localhost:8080/",
          "height": 35
        },
        "id": "7Ipl5iOhUOcd",
        "outputId": "2466599f-53bf-4617-c387-e53aa6fe5ccd"
      },
      "execution_count": null,
      "outputs": [
        {
          "output_type": "execute_result",
          "data": {
            "text/plain": [
              "''"
            ],
            "application/vnd.google.colaboratory.intrinsic+json": {
              "type": "string"
            }
          },
          "metadata": {},
          "execution_count": 25
        }
      ]
    },
    {
      "cell_type": "code",
      "source": [
        "#Procurando o inicio do arquivo\n",
        "arquivo.seek(0)\n",
        "#Agora a gente le o arquivo do inicio\n",
        "arquivo.read()"
      ],
      "metadata": {
        "colab": {
          "base_uri": "https://localhost:8080/",
          "height": 53
        },
        "id": "mMTLlKuCUt1X",
        "outputId": "e348059b-2aca-42f9-d1c4-d58e1eabac5e"
      },
      "execution_count": null,
      "outputs": [
        {
          "output_type": "execute_result",
          "data": {
            "text/plain": [
              "'\\nO benicio é um aluno de 13 alunos,\\nBryan joga Roblox,\\nRiquelme é Santista,\\nDavid já ganhou na mega sena e \\nVinicius joga beach tenis\\n'"
            ],
            "application/vnd.google.colaboratory.intrinsic+json": {
              "type": "string"
            }
          },
          "metadata": {},
          "execution_count": 26
        }
      ]
    },
    {
      "cell_type": "code",
      "source": [
        "%%writefile herois.txt\n",
        "Miranha, Morceguinho, Tortuguita,\n",
        "Aranha-venenosa, Gelinho"
      ],
      "metadata": {
        "colab": {
          "base_uri": "https://localhost:8080/"
        },
        "id": "kme4iFsNVeLR",
        "outputId": "4612ce6a-9ae7-4916-9cae-f4276186c2ed"
      },
      "execution_count": null,
      "outputs": [
        {
          "output_type": "stream",
          "name": "stdout",
          "text": [
            "Writing herois.txt\n"
          ]
        }
      ]
    },
    {
      "cell_type": "code",
      "source": [
        "arquivo = open('herois.txt')\n",
        "#Lendo linha por linha\n",
        "print(arquivo.readline())\n",
        "#Lendo segunda linha\n",
        "print(arquivo.readline())"
      ],
      "metadata": {
        "colab": {
          "base_uri": "https://localhost:8080/"
        },
        "id": "nONCVs6lWD3I",
        "outputId": "be06d034-3b69-48d7-e1e1-e56fc12134d3"
      },
      "execution_count": null,
      "outputs": [
        {
          "output_type": "stream",
          "name": "stdout",
          "text": [
            "Miranha, Morceguinho, Tortuguita,\n",
            "\n",
            "Aranha-venenosa, Gelinho\n",
            "\n"
          ]
        }
      ]
    },
    {
      "cell_type": "code",
      "source": [
        "#Lendo o arquivo inteiro com for\n",
        "arquivo = open('herois.txt', 'r')\n",
        "\n",
        "for x in arquivo:\n",
        "  print(x)"
      ],
      "metadata": {
        "colab": {
          "base_uri": "https://localhost:8080/"
        },
        "id": "35CbdIV-XJJV",
        "outputId": "3c2a5569-ec8b-42a7-e5f7-082c6ceefed6"
      },
      "execution_count": null,
      "outputs": [
        {
          "output_type": "stream",
          "name": "stdout",
          "text": [
            "Miranha, Morceguinho, Tortuguita,\n",
            "\n",
            "Aranha-venenosa, Gelinho\n",
            "\n"
          ]
        }
      ]
    },
    {
      "cell_type": "code",
      "source": [
        "#Adiciona um segundo argumento a funcao, w, para escrita\n",
        "arquivo = open('herois.txt', 'w')"
      ],
      "metadata": {
        "id": "tyShxUjbYZBu"
      },
      "execution_count": null,
      "outputs": []
    },
    {
      "cell_type": "code",
      "source": [
        "#escrever no arquivo\n",
        "arquivo.write('Latão, vencivel')"
      ],
      "metadata": {
        "colab": {
          "base_uri": "https://localhost:8080/"
        },
        "id": "y-WNYh8TY3DM",
        "outputId": "42190f50-fd45-4ba5-dee9-7431db68b5db"
      },
      "execution_count": null,
      "outputs": [
        {
          "output_type": "execute_result",
          "data": {
            "text/plain": [
              "15"
            ]
          },
          "metadata": {},
          "execution_count": 36
        }
      ]
    },
    {
      "cell_type": "code",
      "source": [
        "arquivo = open('herois.txt')\n",
        "arquivo.seek(0)\n",
        "arquivo.read()"
      ],
      "metadata": {
        "colab": {
          "base_uri": "https://localhost:8080/",
          "height": 35
        },
        "id": "pG7BPbQcZmFA",
        "outputId": "cb42b13e-0804-4734-bc12-19451cf6fb5a"
      },
      "execution_count": null,
      "outputs": [
        {
          "output_type": "execute_result",
          "data": {
            "text/plain": [
              "''"
            ],
            "application/vnd.google.colaboratory.intrinsic+json": {
              "type": "string"
            }
          },
          "metadata": {},
          "execution_count": 37
        }
      ]
    },
    {
      "cell_type": "code",
      "source": [
        "arquivo = open('herois.txt')"
      ],
      "metadata": {
        "id": "zA6MQqm0Z6tk"
      },
      "execution_count": null,
      "outputs": []
    },
    {
      "cell_type": "code",
      "source": [
        "arquivo = close"
      ],
      "metadata": {
        "colab": {
          "base_uri": "https://localhost:8080/",
          "height": 141
        },
        "id": "mCcD7Q-BaBeh",
        "outputId": "426dde50-a3d6-4bda-e016-5693b6bff204"
      },
      "execution_count": null,
      "outputs": [
        {
          "output_type": "error",
          "ename": "NameError",
          "evalue": "name 'close' is not defined",
          "traceback": [
            "\u001b[0;31m---------------------------------------------------------------------------\u001b[0m",
            "\u001b[0;31mNameError\u001b[0m                                 Traceback (most recent call last)",
            "\u001b[0;32m<ipython-input-38-aae11406f66e>\u001b[0m in \u001b[0;36m<cell line: 1>\u001b[0;34m()\u001b[0m\n\u001b[0;32m----> 1\u001b[0;31m \u001b[0marquivo\u001b[0m \u001b[0;34m=\u001b[0m \u001b[0mclose\u001b[0m\u001b[0;34m\u001b[0m\u001b[0;34m\u001b[0m\u001b[0m\n\u001b[0m",
            "\u001b[0;31mNameError\u001b[0m: name 'close' is not defined"
          ]
        }
      ]
    },
    {
      "cell_type": "markdown",
      "source": [
        "#AULA 10\n"
      ],
      "metadata": {
        "id": "gTy3rrYxGPfP"
      }
    },
    {
      "cell_type": "code",
      "source": [
        "#''' Calculadora Simples: Peça aos alunos para criar uma calculadora que pode realizar operações básicas como adição, subtração, multiplicação e divisão.\n",
        "def mais(x,y):\n",
        "  return x + y\n",
        "\n",
        "def menos(x,y):\n",
        "  return x - y\n",
        "\n",
        "def vezes(x,y):\n",
        "  return x * y\n",
        "\n",
        "def dividir(x,y):\n",
        "  return x / y\n",
        "#Tabuada: Peça aos alunos para escrever um programa que gere a tabuada de um número fornecido pelo usuário.\n",
        "def multiplication_table(n):\n",
        "\n",
        "  for i in range(1, n +1):\n",
        "  print(f\"------------\\nTable of {i}\\n------------\")\n",
        "  for j in range(1, n + 1):\n",
        "    product = i * j\n",
        "    print(f\"{i} x {j} = {product}\")\n",
        "\n",
        "multiplication_table(7)\n",
        "#Verificador de Números Primos: Peça aos alunos para criar um programa que verifica se um número fornecido pelo usuário é primo ou não.\n",
        "for num in range(2,21):\n",
        "  e_primo = True\n",
        "\n",
        "  for num_teste in range(2, num):\n",
        "    if num % num_teste == 0:\n",
        "      e_primo = False\n",
        "      break\n",
        "\n",
        "  if(e_primo):\n",
        "    print(\"É primo: \",num)\n",
        "  else:\n",
        "    print(\"Não é primo: \",num)\n",
        "#Jogo de Adivinhação: Crie um jogo onde o programa escolhe um número aleatório e o jogador tem que adivinhar qual é esse número.\n",
        "#Dê dicas ao jogador conforme ele faz suas tentativas.\n",
        "#Lista de Compras: Peça aos alunos para criar um programa que gerencie uma lista de compras, permitindo adicionar, remover e exibir os itens da lista.\n",
        "#Conversor de Temperatura: Peça aos alunos para criar um programa que converta uma temperatura de Celsius para Fahrenheit e vice-versa.\n",
        "#Contador de Palavras: Crie um programa que conte quantas palavras há em uma frase fornecida pelo usuário.\n",
        "frase100 = \"ola\"\n",
        "len(frase100)\n",
        "#Média de Notas: Peça aos alunos para criar um programa que calcula a média de notas de um aluno em diferentes disciplinas.\n",
        "for num in range(2,21):\n",
        "  e_primo = True\n",
        "\n",
        "  for num_teste in range(2, num):\n",
        "    if num % num_teste == 0:\n",
        "      e_primo = False\n",
        "      break\n",
        "\n",
        "  if(e_primo):\n",
        "    print(\"É primo: \",num)\n",
        "  else:\n",
        "    print(\"Não é primo: \",num)\n",
        "#Sorteio de Números: Crie um programa que sorteie números aleatórios e os armazene em uma lista, depois peça aos alunos para encontrar o maior e o menor número da lista.\n",
        "import random\n",
        "\n",
        "def create_number_draw(num_balls, num_drawn):\n",
        "\n",
        "  ball_list = list(range(1, num_balls + 1))\n",
        "  drawn_numbers = []\n",
        "\n",
        "  for _ in range(num_drawn):\n",
        "\n",
        "    random_index = random.randint(0, len(ball_list) - 1)\n",
        "    drawn_number = ball_list[random_index]\n",
        "\n",
        "    ball_list.remove(drawn_number)\n",
        "\n",
        "    drawn_numbers.append(drawn_number)\n",
        "\n",
        "\n",
        "#Criador de Listas: Peça aos alunos para criar um programa que permita ao usuário criar e gerenciar listas de itens, como uma lista de tarefas a fazer. '''\n",
        "lista de afazeres = [\"varrer a casa, se esquecer de varrer a casa, tirar o lixo, se esquecer de tirar o lixo, fazer tudo antes da mãe chegar\"]\n",
        "\n",
        "print(lista de afazeres)\n"
      ],
      "metadata": {
        "id": "tSiAgS5OGrp_"
      },
      "execution_count": null,
      "outputs": []
    },
    {
      "cell_type": "markdown",
      "source": [
        "#LIÇÃO"
      ],
      "metadata": {
        "id": "8E_NIm-XM4xh"
      }
    },
    {
      "cell_type": "code",
      "source": [
        "def validar_senha(senha):\n",
        "  caracteres_especiais = '!@#$%¨&*'\n",
        "\n",
        "  if len(senha) > 8 and any(char in caracteres_especiais for char in senha):\n",
        "    return True\n",
        "  else:\n",
        "    return False\n",
        "\n",
        "senha1 = input(\"Digite sua senha: \")\n",
        "\n",
        "validar_senha(senha1)"
      ],
      "metadata": {
        "colab": {
          "base_uri": "https://localhost:8080/"
        },
        "id": "KUg6atztNCjq",
        "outputId": "67f672f9-233b-4f0e-dde9-4adda1c6d0b8"
      },
      "execution_count": null,
      "outputs": [
        {
          "name": "stdout",
          "output_type": "stream",
          "text": [
            "Digite sua senha: hhhhhhhhh!\n"
          ]
        },
        {
          "output_type": "execute_result",
          "data": {
            "text/plain": [
              "True"
            ]
          },
          "metadata": {},
          "execution_count": 11
        }
      ]
    }
  ]
}